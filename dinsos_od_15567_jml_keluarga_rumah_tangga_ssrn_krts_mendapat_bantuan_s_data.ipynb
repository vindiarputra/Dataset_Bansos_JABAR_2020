{
  "nbformat": 4,
  "nbformat_minor": 0,
  "metadata": {
    "colab": {
      "provenance": []
    },
    "kernelspec": {
      "name": "python3",
      "display_name": "Python 3"
    },
    "language_info": {
      "name": "python"
    }
  },
  "cells": [
    {
      "cell_type": "code",
      "execution_count": null,
      "metadata": {
        "colab": {
          "base_uri": "https://localhost:8080/",
          "height": 417
        },
        "id": "mNkoZyOClQaL",
        "outputId": "92d8b892-5067-4146-a0f2-8484f86a6da6"
      },
      "outputs": [
        {
          "output_type": "error",
          "ename": "FileNotFoundError",
          "evalue": "ignored",
          "traceback": [
            "\u001b[0;31m---------------------------------------------------------------------------\u001b[0m",
            "\u001b[0;31mFileNotFoundError\u001b[0m                         Traceback (most recent call last)",
            "\u001b[0;32m<ipython-input-1-37738b294192>\u001b[0m in \u001b[0;36m<cell line: 5>\u001b[0;34m()\u001b[0m\n\u001b[1;32m      3\u001b[0m \u001b[0;34m\u001b[0m\u001b[0m\n\u001b[1;32m      4\u001b[0m \u001b[0;31m# Ganti 'namafile.xlsx' dengan nama file Excel Anda\u001b[0m\u001b[0;34m\u001b[0m\u001b[0;34m\u001b[0m\u001b[0m\n\u001b[0;32m----> 5\u001b[0;31m \u001b[0mdata\u001b[0m \u001b[0;34m=\u001b[0m \u001b[0mpd\u001b[0m\u001b[0;34m.\u001b[0m\u001b[0mread_excel\u001b[0m\u001b[0;34m(\u001b[0m\u001b[0;34m'dinsos-od_15567_jml_keluarga_rumah_tangga_ssrn_krts_mendapat_bantuan_s_data (1).xlsx'\u001b[0m\u001b[0;34m)\u001b[0m\u001b[0;34m\u001b[0m\u001b[0;34m\u001b[0m\u001b[0m\n\u001b[0m\u001b[1;32m      6\u001b[0m \u001b[0;34m\u001b[0m\u001b[0m\n\u001b[1;32m      7\u001b[0m \u001b[0;31m# Tampilkan data\u001b[0m\u001b[0;34m\u001b[0m\u001b[0;34m\u001b[0m\u001b[0m\n",
            "\u001b[0;32m/usr/local/lib/python3.10/dist-packages/pandas/util/_decorators.py\u001b[0m in \u001b[0;36mwrapper\u001b[0;34m(*args, **kwargs)\u001b[0m\n\u001b[1;32m    209\u001b[0m                 \u001b[0;32melse\u001b[0m\u001b[0;34m:\u001b[0m\u001b[0;34m\u001b[0m\u001b[0;34m\u001b[0m\u001b[0m\n\u001b[1;32m    210\u001b[0m                     \u001b[0mkwargs\u001b[0m\u001b[0;34m[\u001b[0m\u001b[0mnew_arg_name\u001b[0m\u001b[0;34m]\u001b[0m \u001b[0;34m=\u001b[0m \u001b[0mnew_arg_value\u001b[0m\u001b[0;34m\u001b[0m\u001b[0;34m\u001b[0m\u001b[0m\n\u001b[0;32m--> 211\u001b[0;31m             \u001b[0;32mreturn\u001b[0m \u001b[0mfunc\u001b[0m\u001b[0;34m(\u001b[0m\u001b[0;34m*\u001b[0m\u001b[0margs\u001b[0m\u001b[0;34m,\u001b[0m \u001b[0;34m**\u001b[0m\u001b[0mkwargs\u001b[0m\u001b[0;34m)\u001b[0m\u001b[0;34m\u001b[0m\u001b[0;34m\u001b[0m\u001b[0m\n\u001b[0m\u001b[1;32m    212\u001b[0m \u001b[0;34m\u001b[0m\u001b[0m\n\u001b[1;32m    213\u001b[0m         \u001b[0;32mreturn\u001b[0m \u001b[0mcast\u001b[0m\u001b[0;34m(\u001b[0m\u001b[0mF\u001b[0m\u001b[0;34m,\u001b[0m \u001b[0mwrapper\u001b[0m\u001b[0;34m)\u001b[0m\u001b[0;34m\u001b[0m\u001b[0;34m\u001b[0m\u001b[0m\n",
            "\u001b[0;32m/usr/local/lib/python3.10/dist-packages/pandas/util/_decorators.py\u001b[0m in \u001b[0;36mwrapper\u001b[0;34m(*args, **kwargs)\u001b[0m\n\u001b[1;32m    329\u001b[0m                     \u001b[0mstacklevel\u001b[0m\u001b[0;34m=\u001b[0m\u001b[0mfind_stack_level\u001b[0m\u001b[0;34m(\u001b[0m\u001b[0;34m)\u001b[0m\u001b[0;34m,\u001b[0m\u001b[0;34m\u001b[0m\u001b[0;34m\u001b[0m\u001b[0m\n\u001b[1;32m    330\u001b[0m                 )\n\u001b[0;32m--> 331\u001b[0;31m             \u001b[0;32mreturn\u001b[0m \u001b[0mfunc\u001b[0m\u001b[0;34m(\u001b[0m\u001b[0;34m*\u001b[0m\u001b[0margs\u001b[0m\u001b[0;34m,\u001b[0m \u001b[0;34m**\u001b[0m\u001b[0mkwargs\u001b[0m\u001b[0;34m)\u001b[0m\u001b[0;34m\u001b[0m\u001b[0;34m\u001b[0m\u001b[0m\n\u001b[0m\u001b[1;32m    332\u001b[0m \u001b[0;34m\u001b[0m\u001b[0m\n\u001b[1;32m    333\u001b[0m         \u001b[0;31m# error: \"Callable[[VarArg(Any), KwArg(Any)], Any]\" has no\u001b[0m\u001b[0;34m\u001b[0m\u001b[0;34m\u001b[0m\u001b[0m\n",
            "\u001b[0;32m/usr/local/lib/python3.10/dist-packages/pandas/io/excel/_base.py\u001b[0m in \u001b[0;36mread_excel\u001b[0;34m(io, sheet_name, header, names, index_col, usecols, squeeze, dtype, engine, converters, true_values, false_values, skiprows, nrows, na_values, keep_default_na, na_filter, verbose, parse_dates, date_parser, thousands, decimal, comment, skipfooter, convert_float, mangle_dupe_cols, storage_options)\u001b[0m\n\u001b[1;32m    480\u001b[0m     \u001b[0;32mif\u001b[0m \u001b[0;32mnot\u001b[0m \u001b[0misinstance\u001b[0m\u001b[0;34m(\u001b[0m\u001b[0mio\u001b[0m\u001b[0;34m,\u001b[0m \u001b[0mExcelFile\u001b[0m\u001b[0;34m)\u001b[0m\u001b[0;34m:\u001b[0m\u001b[0;34m\u001b[0m\u001b[0;34m\u001b[0m\u001b[0m\n\u001b[1;32m    481\u001b[0m         \u001b[0mshould_close\u001b[0m \u001b[0;34m=\u001b[0m \u001b[0;32mTrue\u001b[0m\u001b[0;34m\u001b[0m\u001b[0;34m\u001b[0m\u001b[0m\n\u001b[0;32m--> 482\u001b[0;31m         \u001b[0mio\u001b[0m \u001b[0;34m=\u001b[0m \u001b[0mExcelFile\u001b[0m\u001b[0;34m(\u001b[0m\u001b[0mio\u001b[0m\u001b[0;34m,\u001b[0m \u001b[0mstorage_options\u001b[0m\u001b[0;34m=\u001b[0m\u001b[0mstorage_options\u001b[0m\u001b[0;34m,\u001b[0m \u001b[0mengine\u001b[0m\u001b[0;34m=\u001b[0m\u001b[0mengine\u001b[0m\u001b[0;34m)\u001b[0m\u001b[0;34m\u001b[0m\u001b[0;34m\u001b[0m\u001b[0m\n\u001b[0m\u001b[1;32m    483\u001b[0m     \u001b[0;32melif\u001b[0m \u001b[0mengine\u001b[0m \u001b[0;32mand\u001b[0m \u001b[0mengine\u001b[0m \u001b[0;34m!=\u001b[0m \u001b[0mio\u001b[0m\u001b[0;34m.\u001b[0m\u001b[0mengine\u001b[0m\u001b[0;34m:\u001b[0m\u001b[0;34m\u001b[0m\u001b[0;34m\u001b[0m\u001b[0m\n\u001b[1;32m    484\u001b[0m         raise ValueError(\n",
            "\u001b[0;32m/usr/local/lib/python3.10/dist-packages/pandas/io/excel/_base.py\u001b[0m in \u001b[0;36m__init__\u001b[0;34m(self, path_or_buffer, engine, storage_options)\u001b[0m\n\u001b[1;32m   1650\u001b[0m                 \u001b[0mext\u001b[0m \u001b[0;34m=\u001b[0m \u001b[0;34m\"xls\"\u001b[0m\u001b[0;34m\u001b[0m\u001b[0;34m\u001b[0m\u001b[0m\n\u001b[1;32m   1651\u001b[0m             \u001b[0;32melse\u001b[0m\u001b[0;34m:\u001b[0m\u001b[0;34m\u001b[0m\u001b[0;34m\u001b[0m\u001b[0m\n\u001b[0;32m-> 1652\u001b[0;31m                 ext = inspect_excel_format(\n\u001b[0m\u001b[1;32m   1653\u001b[0m                     \u001b[0mcontent_or_path\u001b[0m\u001b[0;34m=\u001b[0m\u001b[0mpath_or_buffer\u001b[0m\u001b[0;34m,\u001b[0m \u001b[0mstorage_options\u001b[0m\u001b[0;34m=\u001b[0m\u001b[0mstorage_options\u001b[0m\u001b[0;34m\u001b[0m\u001b[0;34m\u001b[0m\u001b[0m\n\u001b[1;32m   1654\u001b[0m                 )\n",
            "\u001b[0;32m/usr/local/lib/python3.10/dist-packages/pandas/io/excel/_base.py\u001b[0m in \u001b[0;36minspect_excel_format\u001b[0;34m(content_or_path, storage_options)\u001b[0m\n\u001b[1;32m   1523\u001b[0m         \u001b[0mcontent_or_path\u001b[0m \u001b[0;34m=\u001b[0m \u001b[0mBytesIO\u001b[0m\u001b[0;34m(\u001b[0m\u001b[0mcontent_or_path\u001b[0m\u001b[0;34m)\u001b[0m\u001b[0;34m\u001b[0m\u001b[0;34m\u001b[0m\u001b[0m\n\u001b[1;32m   1524\u001b[0m \u001b[0;34m\u001b[0m\u001b[0m\n\u001b[0;32m-> 1525\u001b[0;31m     with get_handle(\n\u001b[0m\u001b[1;32m   1526\u001b[0m         \u001b[0mcontent_or_path\u001b[0m\u001b[0;34m,\u001b[0m \u001b[0;34m\"rb\"\u001b[0m\u001b[0;34m,\u001b[0m \u001b[0mstorage_options\u001b[0m\u001b[0;34m=\u001b[0m\u001b[0mstorage_options\u001b[0m\u001b[0;34m,\u001b[0m \u001b[0mis_text\u001b[0m\u001b[0;34m=\u001b[0m\u001b[0;32mFalse\u001b[0m\u001b[0;34m\u001b[0m\u001b[0;34m\u001b[0m\u001b[0m\n\u001b[1;32m   1527\u001b[0m     ) as handle:\n",
            "\u001b[0;32m/usr/local/lib/python3.10/dist-packages/pandas/io/common.py\u001b[0m in \u001b[0;36mget_handle\u001b[0;34m(path_or_buf, mode, encoding, compression, memory_map, is_text, errors, storage_options)\u001b[0m\n\u001b[1;32m    863\u001b[0m         \u001b[0;32melse\u001b[0m\u001b[0;34m:\u001b[0m\u001b[0;34m\u001b[0m\u001b[0;34m\u001b[0m\u001b[0m\n\u001b[1;32m    864\u001b[0m             \u001b[0;31m# Binary mode\u001b[0m\u001b[0;34m\u001b[0m\u001b[0;34m\u001b[0m\u001b[0m\n\u001b[0;32m--> 865\u001b[0;31m             \u001b[0mhandle\u001b[0m \u001b[0;34m=\u001b[0m \u001b[0mopen\u001b[0m\u001b[0;34m(\u001b[0m\u001b[0mhandle\u001b[0m\u001b[0;34m,\u001b[0m \u001b[0mioargs\u001b[0m\u001b[0;34m.\u001b[0m\u001b[0mmode\u001b[0m\u001b[0;34m)\u001b[0m\u001b[0;34m\u001b[0m\u001b[0;34m\u001b[0m\u001b[0m\n\u001b[0m\u001b[1;32m    866\u001b[0m         \u001b[0mhandles\u001b[0m\u001b[0;34m.\u001b[0m\u001b[0mappend\u001b[0m\u001b[0;34m(\u001b[0m\u001b[0mhandle\u001b[0m\u001b[0;34m)\u001b[0m\u001b[0;34m\u001b[0m\u001b[0;34m\u001b[0m\u001b[0m\n\u001b[1;32m    867\u001b[0m \u001b[0;34m\u001b[0m\u001b[0m\n",
            "\u001b[0;31mFileNotFoundError\u001b[0m: [Errno 2] No such file or directory: 'dinsos-od_15567_jml_keluarga_rumah_tangga_ssrn_krts_mendapat_bantuan_s_data (1).xlsx'"
          ]
        }
      ],
      "source": [
        "# Import library yang dibutuhkan\n",
        "import pandas as pd\n",
        "\n",
        "# Ganti 'namafile.xlsx' dengan nama file Excel Anda\n",
        "data = pd.read_excel('dinsos-od_15567_jml_keluarga_rumah_tangga_ssrn_krts_mendapat_bantuan_s_data (1).xlsx')\n",
        "\n",
        "# Tampilkan data\n",
        "print(data)\n"
      ]
    },
    {
      "cell_type": "code",
      "source": [
        "# Membaca data dari file excel\n",
        "df = pd.read_excel('dinsos-od_15567_jml_keluarga_rumah_tangga_ssrn_krts_mendapat_bantuan_s_data (1).xlsx')\n",
        "\n",
        "# Mengelompokkan data berdasarkan 'kemendagri_nama_desa_kelurahan' dan menjumlahkan 'Jumlah Bantuan Sosial'\n",
        "df_grouped = df.groupby('bps_nama_kecamatan')['jumlah_bantuan_sosial'].sum().reset_index()\n",
        "\n",
        "# Menyembunyikan baris dengan 'Jumlah Bantuan Sosial' bernilai 0\n",
        "df_grouped = df_grouped.loc[df_grouped['jumlah_bantuan_sosial'] != 0]\n",
        "\n",
        "# Menampilkan data yang telah dikelompokkan\n",
        "print(df_grouped)\n"
      ],
      "metadata": {
        "id": "Ggkm_QiJntFp"
      },
      "execution_count": null,
      "outputs": []
    },
    {
      "cell_type": "code",
      "source": [
        "import matplotlib.pyplot as plt\n",
        "\n",
        "districts = ['MALASARI', 'TUGU UTARA', 'RAGAJAYA', 'MANGUNJAYA', 'BOJONG', 'LEBAKSARI', 'PASIR JAMBU', 'JATI', 'WARJABAKTI', 'PANCAKOLE', 'PANYINDANGAN', 'MEKARJAYA', 'DUNGUSIKU', 'CISEMPUR', 'CIKUNTEN', 'KALIJAYA', 'CIAKAR', 'LINGGA JAYA', 'CIKANANGA', 'CIBOGO', 'MUNDU PESISIR', 'GROGOL', 'KANCANA', 'KARANGASAEM', 'CIKAHURIPAN', 'CIPICUNG', 'MUNDAKJAYA', 'MAJAKERTA', 'CIMANGU', 'JATIMULYA', 'CIKERIS', 'ANGGADITA', 'SUKAPURA', 'SERTAJAYA', 'SINDANGJAYA', 'MARGALAKSANA', 'CURUGMEKAR', 'KEBON PISANG', 'ABADIJAYA']\n",
        "\n",
        "df_grouped = df[df['kemendagri_nama_desa_kelurahan'].isin(districts)].groupby('kemendagri_nama_desa_kelurahan')['jumlah_bantuan_sosial'].sum().reset_index()\n",
        "\n",
        "plt.figure(figsize=(19.20, 10.80))\n",
        "plt.plot(df_grouped['kemendagri_nama_desa_kelurahan'], df_grouped['jumlah_bantuan_sosial'], marker='o')\n",
        "plt.xlabel('kemendagri_nama_desa_kelurahan')\n",
        "plt.ylabel('Jumlah Bantuan Sosial')\n",
        "plt.title('Line Chart Jumlah Bantuan Sosial pada Tahun 2020 Berdasarkan Kelurahan')\n",
        "plt.xticks(rotation=90)\n",
        "plt.show()\n"
      ],
      "metadata": {
        "id": "1P-7dR9NxIjP"
      },
      "execution_count": null,
      "outputs": []
    },
    {
      "cell_type": "markdown",
      "source": [
        "## penjelasan kode"
      ],
      "metadata": {
        "id": "VfTCTCy7EpPp"
      }
    },
    {
      "cell_type": "markdown",
      "source": [
        "Kode ini digunakan untuk membuat grafik garis yang menunjukkan jumlah bantuan sosial berdasarkan kelurahan pada tahun 2020. Berikut adalah penjelasan detailnya:\n",
        "\n",
        "1. `import matplotlib.pyplot as plt`: Ini adalah perintah untuk mengimpor modul `matplotlib.pyplot` yang digunakan untuk membuat grafik. Modul ini biasanya diimpor dengan alias `plt`.\n",
        "\n",
        "2. `districts = [...]`: Ini adalah daftar nama-nama kelurahan.\n",
        "\n",
        "3. `df_grouped = df[df['kemendagri_nama_desa_kelurahan'].isin(districts)].groupby('kemendagri_nama_desa_kelurahan')['jumlah_bantuan_sosial'].sum().reset_index()`: Baris ini melakukan beberapa hal:\n",
        "   - `df['kemendagri_nama_desa_kelurahan'].isin(districts)`: Ini memilih baris dari DataFrame `df` di mana kelurahan ada dalam daftar `districts`.\n",
        "   - `.groupby('kemendagri_nama_desa_kelurahan')`: Ini mengelompokkan data berdasarkan kelurahan.\n",
        "   - `['jumlah_bantuan_sosial'].sum()`: Ini menjumlahkan jumlah bantuan sosial untuk setiap kelurahan.\n",
        "   - `.reset_index()`: Ini mengatur ulang indeks DataFrame.\n",
        "\n",
        "4. `plt.figure(figsize=(19.20, 10.80))`: Ini membuat figur baru dengan ukuran yang ditentukan (lebar 19.20 dan tinggi 10.80).\n",
        "\n",
        "5. `plt.plot(df_grouped['kemendagri_nama_desa_kelurahan'], df_grouped['jumlah_bantuan_sosial'], marker='o')`: Ini membuat grafik garis dengan kelurahan di sumbu x dan jumlah bantuan sosial di sumbu y. Titik data ditandai dengan 'o'.\n",
        "\n",
        "6. `plt.xlabel('kemendagri_nama_desa_kelurahan')`, `plt.ylabel('Jumlah Bantuan Sosial')`, dan `plt.title('Line Chart Jumlah Bantuan Sosial pada Tahun 2020 Berdasarkan Kelurahan')`: Ini mengatur label sumbu x dan y, serta judul grafik.\n",
        "\n",
        "7. `plt.xticks(rotation=90)`: Ini memutar label sumbu x sebesar 90 derajat untuk meningkatkan keterbacaan.\n",
        "\n",
        "8. `plt.show()`: Ini menampilkan grafik yang telah dibuat.\n",
        "\n",
        "Harap diperhatikan bahwa kode ini mengasumsikan bahwa Anda telah mengimpor pandas sebagai pd dan Anda memiliki DataFrame `df` yang berisi kolom 'kemendagri_nama_desa_kelurahan' dan 'jumlah_bantuan_sosial'."
      ],
      "metadata": {
        "id": "OQDNWxvTEwin"
      }
    },
    {
      "cell_type": "markdown",
      "source": [
        "source dataset"
      ],
      "metadata": {
        "id": "cf2zpxopEYB5"
      }
    },
    {
      "cell_type": "markdown",
      "source": [
        "[https://opendata.jabarprov.go.id/id/dataset/jumlah-keluarga-rumah-tangga-sasaran-krts-yang-mendapat-bantuan-sosial-non-dtks-tahap-1-berdasarkan-desakelurahan-di-jawa-barat](https://opendata.jabarprov.go.id/id/dataset/jumlah-keluarga-rumah-tangga-sasaran-krts-yang-mendapat-bantuan-sosial-non-dtks-tahap-1-berdasarkan-desakelurahan-di-jawa-barat)\n",
        "\n"
      ],
      "metadata": {
        "id": "7gnOeeidC7PJ"
      }
    }
  ]
}